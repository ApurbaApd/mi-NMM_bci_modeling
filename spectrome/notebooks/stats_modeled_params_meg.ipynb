{
 "cells": [
  {
   "cell_type": "code",
   "execution_count": 1,
   "metadata": {},
   "outputs": [],
   "source": [
    "import numpy as np\n",
    "import pandas as pd\n",
    "import matplotlib.pyplot as plt\n",
    "import seaborn as sns\n",
    "import sys\n",
    "sys.path.append(\"../../\")\n",
    "\n",
    "#spectrome modules\n",
    "from spectrome.utils import functions, path\n",
    "from spectrome.brain import Brain\n",
    "import scipy.stats as stats\n",
    "from scipy.stats import friedmanchisquare\n",
    "\n",
    "\n",
    "from spectrome.forward import ntf_local_stimulus as nt_stim\n",
    "from spectrome.forward import ntf_local as nt_nostim\n",
    "from spectrome.forward import ntf_local_stimulus as nt_stim\n",
    "\n",
    "from scipy.io import loadmat\n",
    "from scipy.stats import wilcoxon\n",
    "from statsmodels.stats.multitest import fdrcorrection\n",
    "\n",
    "import pickle as pkl"
   ]
  },
  {
   "cell_type": "code",
   "execution_count": 3,
   "metadata": {},
   "outputs": [],
   "source": [
    "##all the sessions data of MEG\n",
    "data1=loadmat(\"../../Database_PWelch_AvgTrials_MI_Baseline_RS1_19Subjects_MEG_Sess1.mat\")\n",
    "data2=loadmat(\"../../Database_PWelch_AvgTrials_MI_Baseline_RS1_19Subjects_MEG_Sess2.mat\")\n",
    "data3=loadmat(\"../../Database_PWelch_AvgTrials_MI_Baseline_RS1_19Subjects_MEG_Sess3.mat\")\n",
    "data4=loadmat(\"../../Database_PWelch_AvgTrials_MI_Baseline_RS1_19Subjects_MEG_Sess4.mat\")\n",
    "\n",
    "\n",
    "##all the sessions mi \n",
    "sess1_mi_avg=data1['Avg_MI_MEG_DK']\n",
    "sess2_mi_avg=data2['Avg_MI_MEG_DK']\n",
    "sess3_mi_avg=data3['Avg_MI_MEG_DK']\n",
    "sess4_mi_avg=data4['Avg_MI_EEG_DK']\n",
    "\n",
    "##all the sessions resting state\n",
    "sess1_rest_avg=data1['Avg_RS1_MEG_DK']\n",
    "sess2_rest_avg=data2['Avg_RS1_MEG_DK']\n",
    "sess3_rest_avg=data3['Avg_RS1_MEG_DK']\n",
    "sess4_rest_avg=data4['Avg_RS1_EEG_DK']\n",
    "\n",
    "##all the sessions baseline\n",
    "sess1_base_avg=data1['Avg_Baseline_MEG_DK']\n",
    "sess2_base_avg=data2['Avg_Baseline_MEG_DK']\n",
    "sess3_base_avg=data3['Avg_Baseline_MEG_DK']\n",
    "sess4_base_avg=data4['Avg_Baseline_EEG_DK']\n"
   ]
  },
  {
   "cell_type": "code",
   "execution_count": 4,
   "metadata": {},
   "outputs": [],
   "source": [
    "df=pd.read_excel('../ListROIs_DK.xlsx')\n",
    "fvec=np.squeeze(data1[\"Freqs\"])[3:30]"
   ]
  },
  {
   "cell_type": "code",
   "execution_count": 5,
   "metadata": {},
   "outputs": [],
   "source": [
    "all_regions=[]\n",
    "all_regions_idx=[]\n",
    "for i,r in df.iterrows():\n",
    "    all_regions_idx.append(i)\n",
    "    all_regions.append(r['ROI'].strip(\"'\"))"
   ]
  },
  {
   "cell_type": "code",
   "execution_count": 6,
   "metadata": {},
   "outputs": [],
   "source": [
    "##modeled data\n",
    "x_mi_all={}\n",
    "x_base_all={}\n",
    "x_rest_all={}\n",
    "\n",
    "for num in range(1, 5):\n",
    "    x_mi_all[num]=np.zeros((68, 10, 19))\n",
    "    x_base_all[num]=np.zeros((68, 10, 19))\n",
    "    x_rest_all[num]=np.zeros((68, 10, 19))\n",
    "    \n",
    "    for i in range(19):\n",
    "        mi_fname = f'../bci_results_apd/bci_results/meg/sess{num}/mi_allsubs_f/mi_nostim_mse_db_fvec330_{i}.p'\n",
    "        with open(mi_fname, 'rb') as f:\n",
    "            x_mi_all[num][:,:,i]=np.array(pkl.load(f))\n",
    "\n",
    "        base_fname = f'../bci_results_apd/bci_results/meg/sess{num}/baseline_allsubs_f/baseline_nostim_mse_db_fvec330_{i}.p'\n",
    "        with open(base_fname, 'rb') as f:\n",
    "            x_base_all[num][:,:,i] = np.array(pkl.load(f))\n",
    "        \n",
    "        rest_fname = f'../bci_results_apd/bci_results/meg/sess{num}/rs1_allsubs_f0/rs1_nostim_mse_db_fvec330_{i}.p'\n",
    "        with open(rest_fname, 'rb') as f:\n",
    "            x_rest_all[num][:,:,i]=np.array(pkl.load(f))"
   ]
  },
  {
   "cell_type": "code",
   "execution_count": 7,
   "metadata": {},
   "outputs": [],
   "source": [
    "# x_rest_all[4][:,2,0]-x_mi_all[4][:,2,0]"
   ]
  },
  {
   "cell_type": "code",
   "execution_count": null,
   "metadata": {},
   "outputs": [],
   "source": []
  },
  {
   "cell_type": "markdown",
   "metadata": {},
   "source": [
    "### (MI-Rest)/Rest"
   ]
  },
  {
   "cell_type": "code",
   "execution_count": 7,
   "metadata": {},
   "outputs": [],
   "source": [
    "##gei\n",
    "sess1_mi_rest_gei=[[] for _ in range(68)]\n",
    "sess2_mi_rest_gei=[[] for _ in range(68)]\n",
    "sess3_mi_rest_gei=[[] for _ in range(68)]\n",
    "sess4_mi_rest_gei=[[] for _ in range(68)]\n",
    "\n",
    " \n",
    "for k in range(68):\n",
    "  for j in range(19):\n",
    "        mi_rest1_gei=(abs(x_mi_all[1][k,0,j])-abs(x_rest_all[1][k,0,j]))/abs(x_rest_all[1][k,0,j])\n",
    "        sess1_mi_rest_gei[k].append(mi_rest1_gei)\n",
    "\n",
    "        mi_rest2_gei=(abs(x_mi_all[2][k,0,j])-abs(x_rest_all[2][k,0,j]))/abs(x_rest_all[2][k,0,j])\n",
    "        sess2_mi_rest_gei[k].append(mi_rest2_gei)\n",
    "\n",
    "        mi_rest3_gei=(abs(x_mi_all[3][k,0,j])-abs(x_rest_all[3][k,0,j]))/abs(x_rest_all[3][k,0,j])\n",
    "        sess3_mi_rest_gei[k].append(mi_rest3_gei)\n",
    "        \n",
    "        mi_rest4_gei=(abs(x_mi_all[4][k,0,j])-abs(x_rest_all[4][k,0,j]))/abs(x_rest_all[4][k,0,j])\n",
    "        sess4_mi_rest_gei[k].append(mi_rest4_gei)"
   ]
  },
  {
   "cell_type": "code",
   "execution_count": 13,
   "metadata": {},
   "outputs": [],
   "source": [
    "# for i in range(68):\n",
    "#     if len(sess1_mi_rest_gei[i]) != 15:\n",
    "#         print(i)"
   ]
  },
  {
   "cell_type": "code",
   "execution_count": 9,
   "metadata": {},
   "outputs": [
    {
     "name": "stdout",
     "output_type": "stream",
     "text": [
      "Incase of gei, significant regions are---\n",
      "index 9, entorhinal R, FriedmanchisquareResult(statistic=10.005405405405407, pvalue=0.018520243373910412)\n"
     ]
    }
   ],
   "source": [
    "print(\"Incase of gei, significant regions are---\")\n",
    "for i in range(68):\n",
    "    result = friedmanchisquare(sess1_mi_rest_gei[i], sess2_mi_rest_gei[i], sess3_mi_rest_gei[i], sess4_mi_rest_gei[i])\n",
    "    if result[1]<0.05:\n",
    "        for j, reg in enumerate(all_regions):\n",
    "            if i==j:\n",
    "                print(f\"index {i}, {all_regions[j]}, {result}\")\n"
   ]
  },
  {
   "cell_type": "code",
   "execution_count": 10,
   "metadata": {},
   "outputs": [],
   "source": [
    "p_values = []\n",
    "\n",
    "for i in range(68):\n",
    "    result = friedmanchisquare(sess1_mi_rest_gei[i], sess2_mi_rest_gei[i], sess3_mi_rest_gei[i], sess4_mi_rest_gei[i])\n",
    "    p_values.append(result[1])\n",
    "\n",
    "fdr_corrected_pvals = fdrcorrection(p_values)[1]\n",
    "fdr_corr = fdr_corrected_pvals.tolist()\n",
    "\n",
    "for i in range(len(fdr_corr)):\n",
    "    if fdr_corr[i] < 0.1:\n",
    "        print(f\"index {i}, {all_regions[i]}, {fdr_corr[i]}\")"
   ]
  },
  {
   "cell_type": "code",
   "execution_count": 11,
   "metadata": {},
   "outputs": [
    {
     "data": {
      "text/plain": [
       "array([0.78170587, 0.79096724, 0.89161412, 0.84158303, 0.99000992,\n",
       "       0.79995452, 0.79096724, 0.78170587, 0.79096724, 0.78170587,\n",
       "       0.78170587, 0.79995452, 0.78170587, 0.79096724, 0.79096724,\n",
       "       0.79096724, 0.7952096 , 0.79096724, 0.84766076, 0.78170587,\n",
       "       0.85945888, 0.79096724, 0.79096724, 0.84766076, 0.79096724,\n",
       "       0.79096724, 0.9484041 , 0.79096724, 0.99000992, 0.84158303,\n",
       "       0.99000992, 0.99000992, 0.79096724, 0.99000992, 0.99000992,\n",
       "       0.99000992, 0.83623298, 0.79995452, 0.79995452, 0.79096724,\n",
       "       0.99000992, 0.79096724, 0.79995452, 0.78170587, 0.79096724,\n",
       "       0.79096724, 0.79995452, 0.78170587, 0.79995452, 0.84158303,\n",
       "       0.7952096 , 0.79995452, 0.78170587, 0.79995452, 0.79995452,\n",
       "       0.79096724, 0.7952096 , 0.99000992, 0.78170587, 0.78170587,\n",
       "       0.99000992, 0.79096724, 0.79995452, 0.79096724, 0.7952096 ,\n",
       "       0.79096724, 0.79096724, 0.86709746])"
      ]
     },
     "execution_count": 11,
     "metadata": {},
     "output_type": "execute_result"
    }
   ],
   "source": [
    "fdr_corrected_pvals"
   ]
  },
  {
   "cell_type": "code",
   "execution_count": 12,
   "metadata": {},
   "outputs": [],
   "source": [
    "##gii\n",
    "sess1_mi_rest_gii=[[] for _ in range(68)]\n",
    "sess2_mi_rest_gii=[[] for _ in range(68)]\n",
    "sess3_mi_rest_gii=[[] for _ in range(68)]\n",
    "sess4_mi_rest_gii=[[] for _ in range(68)]\n",
    "\n",
    " \n",
    "for k in range(68):\n",
    "    for j in range(19):\n",
    "        mi_rest1_gii=((x_mi_all[1][k,1,j])-(x_rest_all[1][k,1,j]))/(x_rest_all[1][k,1,j])\n",
    "        sess1_mi_rest_gii[k].append(mi_rest1_gii)\n",
    "        mi_rest2_gii=((x_mi_all[2][k,1,j])-(x_rest_all[2][k,1,j]))/(x_rest_all[2][k,1,j])\n",
    "        sess2_mi_rest_gii[k].append(mi_rest2_gii)\n",
    "        mi_rest3_gii=((x_mi_all[3][k,1,j])-(x_rest_all[3][k,1,j]))/(x_rest_all[3][k,1,j])\n",
    "        sess3_mi_rest_gii[k].append(mi_rest3_gii)\n",
    "        mi_rest4_gii=((x_mi_all[4][k,1,j])-(x_rest_all[4][k,1,j]))/(x_rest_all[4][k,1,j])\n",
    "        sess4_mi_rest_gii[k].append(mi_rest4_gii)\n"
   ]
  },
  {
   "cell_type": "code",
   "execution_count": 14,
   "metadata": {},
   "outputs": [],
   "source": [
    "for i in range(68):\n",
    "    result = friedmanchisquare(sess1_mi_rest_gii[i], sess2_mi_rest_gii[i], sess3_mi_rest_gii[i], sess4_mi_rest_gii[i])\n",
    "    # print(result[1])\n",
    "    if result[1]<0.05:\n",
    "        for j, reg in enumerate(all_regions):\n",
    "            if i==j:\n",
    "                print(f\"index {i}, {all_regions[j]}, {result}\")"
   ]
  },
  {
   "cell_type": "code",
   "execution_count": 15,
   "metadata": {},
   "outputs": [],
   "source": [
    "p_values = []\n",
    "\n",
    "for i in range(68):\n",
    "    result = friedmanchisquare(sess1_mi_rest_gii[i], sess2_mi_rest_gii[i], sess3_mi_rest_gii[i], sess4_mi_rest_gii[i])\n",
    "    p_values.append(result[1])\n",
    "\n",
    "fdr_corrected_pvals = fdrcorrection(p_values)[1]\n",
    "fdr_corr = fdr_corrected_pvals.tolist()\n",
    "\n",
    "for i in range(len(fdr_corr)):\n",
    "    if fdr_corr[i] < 0.1:\n",
    "        print(f\"index {i}, {all_regions[i]}, {fdr_corr[i]}\")"
   ]
  },
  {
   "cell_type": "code",
   "execution_count": 16,
   "metadata": {},
   "outputs": [
    {
     "data": {
      "text/plain": [
       "array([0.88784721, 0.88784721, 0.88784721, 0.96128261, 0.88784721,\n",
       "       0.92640112, 0.90196146, 0.90366084, 0.90366084, 0.88784721,\n",
       "       0.88784721, 0.88784721, 0.88784721, 0.88784721, 0.88784721,\n",
       "       0.88784721, 0.88784721, 0.88784721, 0.88784721, 0.88784721,\n",
       "       0.88784721, 0.88784721, 0.88784721, 0.99008941, 0.88784721,\n",
       "       0.88784721, 0.90366084, 0.98162641, 0.88784721, 0.88784721,\n",
       "       0.88784721, 0.95029669, 0.88784721, 0.88784721, 0.88784721,\n",
       "       0.88784721, 0.96855329, 0.99008941, 0.88784721, 0.88784721,\n",
       "       0.99008941, 0.88784721, 0.88784721, 0.95029669, 0.88784721,\n",
       "       0.88784721, 0.88784721, 0.88784721, 0.99008941, 0.93755744,\n",
       "       0.88784721, 0.88784721, 0.88784721, 0.88784721, 0.88784721,\n",
       "       0.88784721, 0.88784721, 0.88784721, 0.88784721, 0.88784721,\n",
       "       0.99008941, 0.88784721, 0.88784721, 0.93788986, 0.88784721,\n",
       "       0.88784721, 0.88784721, 0.88784721])"
      ]
     },
     "execution_count": 16,
     "metadata": {},
     "output_type": "execute_result"
    }
   ],
   "source": [
    "fdr_corrected_pvals"
   ]
  },
  {
   "cell_type": "code",
   "execution_count": 17,
   "metadata": {},
   "outputs": [],
   "source": [
    "##tau_e\n",
    "sess1_mi_rest_tau_e=[[] for _ in range(68)]\n",
    "sess2_mi_rest_tau_e=[[] for _ in range(68)]\n",
    "sess3_mi_rest_tau_e=[[] for _ in range(68)]\n",
    "sess4_mi_rest_tau_e=[[] for _ in range(68)]\n",
    "\n",
    " \n",
    "for k in range(68):\n",
    "    for j in range(19):\n",
    "        mi_rest1_tau_e=((x_mi_all[1][k,2,j])-(x_rest_all[1][k,2,j]))/(x_rest_all[1][k,2,j])\n",
    "        sess1_mi_rest_tau_e[k].append(mi_rest1_tau_e)\n",
    "        mi_rest2_tau_e=((x_mi_all[2][k,2,j])-(x_rest_all[2][k,2,j]))/(x_rest_all[2][k,2,j])\n",
    "        sess2_mi_rest_tau_e[k].append(mi_rest2_tau_e)\n",
    "        mi_rest3_tau_e=((x_mi_all[3][k,2,j])-(x_rest_all[3][k,2,j]))/(x_rest_all[3][k,2,j])\n",
    "        sess3_mi_rest_tau_e[k].append(mi_rest3_tau_e)\n",
    "        mi_rest4_tau_e=((x_mi_all[4][k,2,j])-(x_rest_all[4][k,2,j]))/(x_rest_all[4][k,2,j])\n",
    "        sess4_mi_rest_tau_e[k].append(mi_rest4_tau_e)"
   ]
  },
  {
   "cell_type": "code",
   "execution_count": 19,
   "metadata": {},
   "outputs": [
    {
     "name": "stdout",
     "output_type": "stream",
     "text": [
      "Incase of tau_e, significant regions are---\n",
      "index 17, inferiortemporal R, FriedmanchisquareResult(statistic=7.941176470588244, pvalue=0.047243183430928426)\n",
      "index 31, middletemporal R, FriedmanchisquareResult(statistic=9.609890109890136, pvalue=0.02219059747469413)\n",
      "index 33, paracentral R, FriedmanchisquareResult(statistic=9.634920634920661, pvalue=0.021938513471930935)\n",
      "index 51, precuneus R, FriedmanchisquareResult(statistic=8.460317460317492, pvalue=0.03739727630985676)\n"
     ]
    }
   ],
   "source": [
    "print(\"Incase of tau_e, significant regions are---\")\n",
    "for i in range(68):\n",
    "    result = friedmanchisquare(sess1_mi_rest_tau_e[i], sess2_mi_rest_tau_e[i], sess3_mi_rest_tau_e[i], sess4_mi_rest_tau_e[i])\n",
    "    if result[1]<0.05:\n",
    "        for j, reg in enumerate(all_regions):\n",
    "            if i==j:\n",
    "                print(f\"index {i}, {all_regions[j]}, {result}\")\n"
   ]
  },
  {
   "cell_type": "code",
   "execution_count": 20,
   "metadata": {},
   "outputs": [],
   "source": [
    "p_values = []\n",
    "\n",
    "for i in range(68):\n",
    "    result = friedmanchisquare(sess1_mi_rest_tau_e[i], sess2_mi_rest_tau_e[i], sess3_mi_rest_tau_e[i], sess4_mi_rest_tau_e[i])\n",
    "    p_values.append(result[1])\n",
    "\n",
    "fdr_corrected_pvals = fdrcorrection(p_values)[1]\n",
    "fdr_corr = fdr_corrected_pvals.tolist()\n",
    "\n",
    "for i in range(len(fdr_corr)):\n",
    "    if fdr_corr[i] < 0.1:\n",
    "        print(f\"index {i}, {all_regions[i]}, {fdr_corr[i]}\")"
   ]
  },
  {
   "cell_type": "code",
   "execution_count": 21,
   "metadata": {},
   "outputs": [
    {
     "data": {
      "text/plain": [
       "array([0.94955159, 0.94955159, 0.94955159, 0.94955159, 0.94955159,\n",
       "       0.94955159, 0.94955159, 0.94758322, 0.94955159, 0.94955159,\n",
       "       0.94955159, 0.94955159, 0.94955159, 0.94955159, 0.94955159,\n",
       "       0.94955159, 0.94955159, 0.80313412, 0.94955159, 0.99727545,\n",
       "       0.94955159, 0.94955159, 0.94955159, 0.94955159, 0.97838657,\n",
       "       0.94955159, 0.94955159, 0.94955159, 0.99727545, 0.94955159,\n",
       "       0.94758322, 0.75448031, 0.94955159, 0.75448031, 0.94955159,\n",
       "       0.96368055, 0.99727545, 0.94955159, 0.99727545, 0.97838657,\n",
       "       0.94955159, 0.94955159, 0.94955159, 0.97838657, 0.99727545,\n",
       "       0.94955159, 0.97838657, 0.94955159, 0.94955159, 0.99727545,\n",
       "       0.94955159, 0.80313412, 0.94955159, 0.94955159, 0.94955159,\n",
       "       0.96519277, 0.94955159, 0.97838657, 0.97838657, 0.94955159,\n",
       "       0.94955159, 0.94955159, 0.94955159, 0.94955159, 0.97838657,\n",
       "       0.94758322, 0.94955159, 0.94955159])"
      ]
     },
     "execution_count": 21,
     "metadata": {},
     "output_type": "execute_result"
    }
   ],
   "source": [
    "fdr_corrected_pvals"
   ]
  },
  {
   "cell_type": "code",
   "execution_count": 22,
   "metadata": {},
   "outputs": [],
   "source": [
    "##tau_i\n",
    "sess1_mi_rest_tau_i=[[] for _ in range(68)]\n",
    "sess2_mi_rest_tau_i=[[] for _ in range(68)]\n",
    "sess3_mi_rest_tau_i=[[] for _ in range(68)]\n",
    "sess4_mi_rest_tau_i=[[] for _ in range(68)]\n",
    "\n",
    " \n",
    "\n",
    "for k in range(68):\n",
    "   for j in range(19):\n",
    "        mi_rest1_tau_i=((x_mi_all[1][k,3,j])-(x_rest_all[1][k,3,j]))/(x_rest_all[1][k,3,j])\n",
    "        sess1_mi_rest_tau_i[k].append(mi_rest1_tau_i) \n",
    "        mi_rest2_tau_i=((x_mi_all[2][k,3,j])-(x_rest_all[2][k,3,j]))/(x_rest_all[2][k,3,j])\n",
    "        sess2_mi_rest_tau_i[k].append(mi_rest2_tau_i)\n",
    "        mi_rest3_tau_i=((x_mi_all[3][k,3,j])-(x_rest_all[3][k,3,j]))/(x_rest_all[3][k,3,j])\n",
    "        sess3_mi_rest_tau_i[k].append(mi_rest3_tau_i)\n",
    "        mi_rest4_tau_i=((x_mi_all[4][k,3,j])-(x_rest_all[4][k,3,j]))/(x_rest_all[4][k,3,j])\n",
    "        sess4_mi_rest_tau_i[k].append(mi_rest4_tau_i)"
   ]
  },
  {
   "cell_type": "code",
   "execution_count": 23,
   "metadata": {},
   "outputs": [
    {
     "name": "stdout",
     "output_type": "stream",
     "text": [
      "Incase of tau_i, significant regions are---\n",
      "index 29, medialorbitofrontal R, FriedmanchisquareResult(statistic=10.273743016759788, pvalue=0.016376961969895458)\n",
      "index 34, parahippocampal L, FriedmanchisquareResult(statistic=10.989130434782645, pvalue=0.01178479686193941)\n",
      "index 39, parsorbitalis R, FriedmanchisquareResult(statistic=8.569060773480677, pvalue=0.03560462440657816)\n",
      "index 47, posteriorcingulate R, FriedmanchisquareResult(statistic=8.619047619047628, pvalue=0.03480901812379384)\n",
      "index 52, rostralanteriorcingulate L, FriedmanchisquareResult(statistic=11.317460317460316, pvalue=0.010127459258647662)\n",
      "index 62, supramarginal L, FriedmanchisquareResult(statistic=8.657608695652211, pvalue=0.034207165692828)\n"
     ]
    }
   ],
   "source": [
    "print(\"Incase of tau_i, significant regions are---\")\n",
    "for i in range(68):\n",
    "    result = friedmanchisquare(sess1_mi_rest_tau_i[i], sess2_mi_rest_tau_i[i], sess3_mi_rest_tau_i[i], sess4_mi_rest_tau_i[i])\n",
    "    if result[1]<0.05:\n",
    "        for j, reg in enumerate(all_regions):\n",
    "            if i==j:\n",
    "                print(f\"index {i}, {all_regions[j]}, {result}\")\n"
   ]
  },
  {
   "cell_type": "code",
   "execution_count": 24,
   "metadata": {},
   "outputs": [],
   "source": [
    "p_values = []\n",
    "\n",
    "for i in range(68):\n",
    "    result = friedmanchisquare(sess1_mi_rest_tau_i[i], sess2_mi_rest_tau_i[i], sess3_mi_rest_tau_i[i], sess4_mi_rest_tau_i[i])\n",
    "    p_values.append(result[1])\n",
    "\n",
    "fdr_corrected_pvals = fdrcorrection(p_values)[1]\n",
    "fdr_corr = fdr_corrected_pvals.tolist()\n",
    "\n",
    "for i in range(len(fdr_corr)):\n",
    "    if fdr_corr[i] < 0.1:\n",
    "        print(f\"index {i}, {all_regions[i]}, {fdr_corr[i]}\")"
   ]
  },
  {
   "cell_type": "code",
   "execution_count": 25,
   "metadata": {},
   "outputs": [
    {
     "data": {
      "text/plain": [
       "(array([0.65747904, 0.24958415, 0.39415963, 0.70653784, 0.24738202,\n",
       "        0.52310787, 0.24723686, 0.15142183, 0.74767959, 0.07903731,\n",
       "        0.51661591, 0.37184346, 0.50144638, 0.1706199 , 0.69398814,\n",
       "        0.70828005, 0.73252812, 0.0977558 , 0.59307061, 0.16633893,\n",
       "        0.66162213, 0.05594088, 0.09747375, 0.24910205, 0.77250906,\n",
       "        0.19849066, 0.51983355, 0.71748301, 0.78564619, 0.01637696,\n",
       "        0.48552963, 0.89789984, 0.65357704, 0.7372469 , 0.0117848 ,\n",
       "        0.67672757, 0.48595812, 0.63111213, 0.90879759, 0.03560462,\n",
       "        0.41206243, 0.31831668, 0.94576728, 0.37215561, 0.71578988,\n",
       "        0.97582548, 0.41195021, 0.03480902, 0.26323978, 0.97293544,\n",
       "        0.72592669, 0.45457515, 0.01012746, 0.59273341, 0.75055245,\n",
       "        0.50034665, 0.85416181, 0.60165578, 0.37717315, 0.24000975,\n",
       "        0.98358223, 0.69348221, 0.03420717, 0.14816148, 0.174544  ,\n",
       "        0.10760365, 0.86640668, 0.18035955]),\n",
       " array([0.87995804, 0.73790095, 0.87995804, 0.87995804, 0.73790095,\n",
       "        0.87995804, 0.73790095, 0.72143822, 0.87995804, 0.66473944,\n",
       "        0.87995804, 0.87995804, 0.87995804, 0.72143822, 0.87995804,\n",
       "        0.87995804, 0.87995804, 0.66473944, 0.87995804, 0.72143822,\n",
       "        0.87995804, 0.54342565, 0.66473944, 0.73790095, 0.89034942,\n",
       "        0.73790095, 0.87995804, 0.87995804, 0.89039901, 0.37121114,\n",
       "        0.87995804, 0.96559744, 0.87995804, 0.87995804, 0.37121114,\n",
       "        0.87995804, 0.87995804, 0.87995804, 0.96559744, 0.40351908,\n",
       "        0.87995804, 0.86582136, 0.98358223, 0.87995804, 0.87995804,\n",
       "        0.98358223, 0.87995804, 0.40351908, 0.74584603, 0.98358223,\n",
       "        0.87995804, 0.87995804, 0.37121114, 0.87995804, 0.87995804,\n",
       "        0.87995804, 0.95025249, 0.87995804, 0.87995804, 0.73790095,\n",
       "        0.98358223, 0.87995804, 0.40351908, 0.72143822, 0.72143822,\n",
       "        0.66518618, 0.95025249, 0.72143822]))"
      ]
     },
     "execution_count": 25,
     "metadata": {},
     "output_type": "execute_result"
    }
   ],
   "source": [
    "np.array(p_values),fdr_corrected_pvals"
   ]
  },
  {
   "cell_type": "code",
   "execution_count": null,
   "metadata": {},
   "outputs": [],
   "source": []
  },
  {
   "cell_type": "markdown",
   "metadata": {},
   "source": [
    "### Intra subject variability analysis over time, session after session"
   ]
  },
  {
   "cell_type": "code",
   "execution_count": 26,
   "metadata": {},
   "outputs": [],
   "source": [
    "taue_region_codition_effect=['bankssts L', 'cuneus L', 'entorhinal L', 'inferiorparietal L', 'inferiorparietal R', 'isthmuscingulate R', 'paracentral L', \n",
    " 'paracentral R', 'pericalcarine L', 'postcentral L', 'postcentral R', 'posteriorcingulate L', 'posteriorcingulate R', 'precentral R', \n",
    " 'precuneus L', 'precuneus R', 'supramarginal L', 'supramarginal R', 'transversetemporal L']\n",
    "\n",
    "motor_regions=['paracentral L', 'paracentral R', 'postcentral L', 'postcentral R','precentral L', 'precentral R']"
   ]
  },
  {
   "cell_type": "code",
   "execution_count": 27,
   "metadata": {},
   "outputs": [
    {
     "name": "stdout",
     "output_type": "stream",
     "text": [
      "[0, 6, 8, 14, 15, 21, 32, 33, 42, 44, 45, 46, 47, 49, 50, 51, 62, 63, 66] 19\n"
     ]
    }
   ],
   "source": [
    "taue_reg_idx=[]\n",
    "for reg in taue_region_codition_effect:\n",
    "    taue_reg_idx.append(all_regions.index(reg))\n",
    "\n",
    "print(taue_reg_idx, len(taue_reg_idx))"
   ]
  },
  {
   "cell_type": "code",
   "execution_count": 28,
   "metadata": {},
   "outputs": [
    {
     "name": "stdout",
     "output_type": "stream",
     "text": [
      "[32, 33, 44, 45, 48, 49] 6\n"
     ]
    }
   ],
   "source": [
    "motor_idx=[]\n",
    "for reg in motor_regions:\n",
    "    motor_idx.append(all_regions.index(reg))\n",
    "\n",
    "print(motor_idx, len(motor_idx))"
   ]
  },
  {
   "cell_type": "code",
   "execution_count": 29,
   "metadata": {},
   "outputs": [],
   "source": [
    "##tau_e (MI-RS relative)\n",
    "sess1_mi_rest_tau_e=[[] for _ in range(19)]\n",
    "sess2_mi_rest_tau_e=[[] for _ in range(19)]\n",
    "sess3_mi_rest_tau_e=[[] for _ in range(19)]\n",
    "sess4_mi_rest_tau_e=[[] for _ in range(19)]\n",
    "\n",
    "\n",
    "for j in range(19):\n",
    "    for k in taue_reg_idx:\n",
    "        mi_rest1_gii=((x_mi_all[1][all_regions_idx[k],2,j])-(x_rest_all[1][all_regions_idx[k],2,j]))/(x_rest_all[1][all_regions_idx[k],2,j])\n",
    "        sess1_mi_rest_tau_e[j].append(mi_rest1_gii)\n",
    "\n",
    "        \n",
    "        mi_rest2_gii=((x_mi_all[2][all_regions_idx[k],2,j])-(x_rest_all[2][all_regions_idx[k],2,j]))/(x_rest_all[2][all_regions_idx[k],2,j])\n",
    "        sess2_mi_rest_tau_e[j].append(mi_rest2_gii)\n",
    "\n",
    "        mi_rest3_gii=((x_mi_all[3][all_regions_idx[k],2,j])-(x_rest_all[3][all_regions_idx[k],2,j]))/(x_rest_all[3][all_regions_idx[k],2,j])\n",
    "        sess3_mi_rest_tau_e[j].append(mi_rest3_gii)\n",
    "\n",
    "        mi_rest4_gii=((x_mi_all[4][all_regions_idx[k],2,j])-(x_rest_all[4][all_regions_idx[k],2,j]))/(x_rest_all[4][all_regions_idx[k],2,j])\n",
    "        sess4_mi_rest_tau_e[j].append(mi_rest4_gii)\n"
   ]
  },
  {
   "cell_type": "code",
   "execution_count": 30,
   "metadata": {},
   "outputs": [
    {
     "data": {
      "text/plain": [
       "[-0.09792279289349096,\n",
       " -0.3672370173973702,\n",
       " -0.3762181359329829,\n",
       " -0.08456208405741827,\n",
       " -0.05435233168051694,\n",
       " -0.06946408708850371,\n",
       " -0.6735996932506156,\n",
       " -0.5939495196355932,\n",
       " -0.4357826553045978,\n",
       " -0.058390091445493085,\n",
       " -0.5549172501625161,\n",
       " -0.5927831380102396,\n",
       " -0.6111005490230348,\n",
       " -0.6872593501713297,\n",
       " -0.04422617237978963,\n",
       " -0.02885156630161359,\n",
       " -0.17390170812295758,\n",
       " -0.5847730574702036,\n",
       " -0.21794942884286136]"
      ]
     },
     "execution_count": 30,
     "metadata": {},
     "output_type": "execute_result"
    }
   ],
   "source": [
    "sess4_mi_rest_tau_e[18]"
   ]
  },
  {
   "cell_type": "code",
   "execution_count": 31,
   "metadata": {},
   "outputs": [],
   "source": [
    "pvalues=[]\n",
    "for i in range(19):\n",
    "   pval= friedmanchisquare(sess1_mi_rest_tau_e[i], sess2_mi_rest_tau_e[i], sess3_mi_rest_tau_e[i], sess4_mi_rest_tau_e[i])[1]\n",
    "   pvalues.append(pval)"
   ]
  },
  {
   "cell_type": "code",
   "execution_count": 32,
   "metadata": {},
   "outputs": [
    {
     "data": {
      "text/plain": [
       "[0.061324393287326195,\n",
       " 0.0015657368055660115,\n",
       " 0.00035119650912801976,\n",
       " 4.794842140197192e-05,\n",
       " 0.8368411685729272,\n",
       " 0.587840081265715,\n",
       " 0.26720376141785257,\n",
       " 0.4217700282435267,\n",
       " 0.3119959594932937,\n",
       " 0.3283488645432522,\n",
       " 0.7303832432133003,\n",
       " 0.1447435794148542,\n",
       " 0.0411178713916218,\n",
       " 0.16573367408407635,\n",
       " 0.9597296757976653,\n",
       " 0.8216158703547418,\n",
       " 0.18455341585510993,\n",
       " 0.28144683490734546,\n",
       " 0.33680492239013804]"
      ]
     },
     "execution_count": 32,
     "metadata": {},
     "output_type": "execute_result"
    }
   ],
   "source": [
    "pvalues"
   ]
  },
  {
   "cell_type": "code",
   "execution_count": 33,
   "metadata": {},
   "outputs": [
    {
     "name": "stdout",
     "output_type": "stream",
     "text": [
      "FDR corrected p-value: 0.009916333101918074, 1\n",
      "FDR corrected p-value: 0.003336366836716188, 2\n",
      "FDR corrected p-value: 0.0009110200066374665, 3\n"
     ]
    }
   ],
   "source": [
    "pfdr=fdrcorrection(pvalues)[1]\n",
    "for idx, val in enumerate(pfdr):\n",
    "    if val < 0.05:\n",
    "        print(f\"FDR corrected p-value: {val}, {idx}\")"
   ]
  },
  {
   "cell_type": "code",
   "execution_count": 35,
   "metadata": {},
   "outputs": [],
   "source": [
    "##tau_e (only MI)\n",
    "sess1_mi_rest_tau_e=[[] for _ in range(19)]\n",
    "sess2_mi_rest_tau_e=[[] for _ in range(19)]\n",
    "sess3_mi_rest_tau_e=[[] for _ in range(19)]\n",
    "sess4_mi_rest_tau_e=[[] for _ in range(19)]\n",
    "\n",
    "\n",
    "for j in range(19):\n",
    "    for k in taue_reg_idx:\n",
    "        mi_rest1_gii=((x_mi_all[1][all_regions_idx[k],2,j]))\n",
    "        sess1_mi_rest_tau_e[j].append(mi_rest1_gii)\n",
    "\n",
    "        \n",
    "        mi_rest2_gii=((x_mi_all[2][all_regions_idx[k],2,j]))\n",
    "        sess2_mi_rest_tau_e[j].append(mi_rest2_gii)\n",
    "\n",
    "        mi_rest3_gii=((x_mi_all[3][all_regions_idx[k],2,j]))\n",
    "        sess3_mi_rest_tau_e[j].append(mi_rest3_gii)\n",
    "\n",
    "        mi_rest4_gii=((x_mi_all[4][all_regions_idx[k],2,j]))\n",
    "        sess4_mi_rest_tau_e[j].append(mi_rest4_gii)\n"
   ]
  },
  {
   "cell_type": "code",
   "execution_count": 36,
   "metadata": {},
   "outputs": [
    {
     "data": {
      "text/plain": [
       "[10.96256537795457,\n",
       " 6.2236964873416785,\n",
       " 11.988509385894803,\n",
       " 11.45184387985457,\n",
       " 11.63210377699999,\n",
       " 11.466672792723076,\n",
       " 12.663158013077357,\n",
       " 19.545892709161958,\n",
       " 6.2817678647957935,\n",
       " 11.625168504415516,\n",
       " 10.907022968584549,\n",
       " 11.161591208461335,\n",
       " 11.097927912856973,\n",
       " 17.437609363242697,\n",
       " 11.82240748241509,\n",
       " 11.793263566718881,\n",
       " 11.139036950208014,\n",
       " 10.597535730636872,\n",
       " 11.156271199197274]"
      ]
     },
     "execution_count": 36,
     "metadata": {},
     "output_type": "execute_result"
    }
   ],
   "source": [
    "sess1_mi_rest_tau_e[0]"
   ]
  },
  {
   "cell_type": "code",
   "execution_count": 37,
   "metadata": {},
   "outputs": [],
   "source": [
    "mi_pvalues=[]\n",
    "for i in range(19):\n",
    "   pval= friedmanchisquare(sess1_mi_rest_tau_e[i], sess2_mi_rest_tau_e[i], sess3_mi_rest_tau_e[i], sess4_mi_rest_tau_e[i])[1]\n",
    "   mi_pvalues.append(pval)"
   ]
  },
  {
   "cell_type": "code",
   "execution_count": 38,
   "metadata": {},
   "outputs": [
    {
     "data": {
      "text/plain": [
       "[0.08273499075061613,\n",
       " 0.6258754534605744,\n",
       " 0.46491900228400485,\n",
       " 1.3989286506563082e-08,\n",
       " 0.007714835927671302,\n",
       " 0.0009419168642945064,\n",
       " 0.7078232000052942,\n",
       " 0.24971339731928494,\n",
       " 0.3036803236852205,\n",
       " 0.054785542612130735,\n",
       " 0.5669050489812602,\n",
       " 0.11955000390685301,\n",
       " 0.019449850145082777,\n",
       " 0.01552971400159021,\n",
       " 0.15304318270181,\n",
       " 0.004546429517005324,\n",
       " 0.07257182722132748,\n",
       " 0.1408588643867648,\n",
       " 0.4538106968669988]"
      ]
     },
     "execution_count": 38,
     "metadata": {},
     "output_type": "execute_result"
    }
   ],
   "source": [
    "mi_pvalues"
   ]
  },
  {
   "cell_type": "code",
   "execution_count": 39,
   "metadata": {},
   "outputs": [
    {
     "name": "stdout",
     "output_type": "stream",
     "text": [
      "FDR corrected p-value: 2.657964436246986e-07, 3\n",
      "FDR corrected p-value: 0.03664547065643869, 4\n",
      "FDR corrected p-value: 0.008948210210797811, 5\n",
      "FDR corrected p-value: 0.02879405360770039, 15\n"
     ]
    }
   ],
   "source": [
    "mi_pfdr=fdrcorrection(mi_pvalues)[1]\n",
    "for idx, val in enumerate(mi_pfdr):\n",
    "    if val < 0.05:\n",
    "        print(f\"FDR corrected p-value: {val}, {idx}\")"
   ]
  },
  {
   "cell_type": "code",
   "execution_count": null,
   "metadata": {},
   "outputs": [],
   "source": []
  },
  {
   "cell_type": "code",
   "execution_count": null,
   "metadata": {},
   "outputs": [],
   "source": []
  },
  {
   "cell_type": "code",
   "execution_count": 9,
   "metadata": {},
   "outputs": [],
   "source": [
    "# def find_mean(data):\n",
    "#     return [np.mean(lst) for lst in data]\n",
    "\n",
    "# def plot_violin(data, means, param, subject, state):\n",
    "#     plt.figure(figsize=(6, 4))\n",
    "#     sns.violinplot(data=data, density_norm='width', inner=None, palette=\"muted\", orient=\"v\")\n",
    "#     sns.stripplot(data=data, color=\"black\", size=5, jitter=False, orient=\"v\")\n",
    "\n",
    "#     for i, mean in enumerate(means):\n",
    "#         plt.scatter(i, mean, color=\"red\", zorder=3, label=\"Mean\" if i == 0 else \"\")\n",
    "    \n",
    "#     plt.plot(range(len(means)), means, color=\"blue\", linestyle=\"-\", zorder=2)\n",
    "#     plt.xlabel(\"Sessions\", fontsize=12)\n",
    "#     plt.ylabel(f\"{param}\", fontsize=12)\n",
    "#     plt.title(f\"Intra-subject variability during {state} for taue in subject-{subject}\", fontsize=12)\n",
    "#     plt.xticks(ticks=range(len(data)), labels=range(1, len(data) + 1), fontsize=10)\n",
    "\n",
    "#     plt.grid(axis='y', linestyle='', alpha=0)  \n",
    "#     plt.yticks(fontsize=10)  \n",
    "#     plt.legend(loc=\"upper right\")\n",
    "#     plt.show()"
   ]
  },
  {
   "cell_type": "code",
   "execution_count": 10,
   "metadata": {},
   "outputs": [],
   "source": [
    "\n",
    "# ##for tau_e--(MI-Rest)/Rest\n",
    "# def main():\n",
    "#     for i in range(19):\n",
    "#       data = [sess1_mi_rest_tau_e[i],sess2_mi_rest_tau_e[i],sess3_mi_rest_tau_e[i],sess4_mi_rest_tau_e[i]]\n",
    "#       means = find_mean(data)\n",
    "#       parameter=\"No of ROI\"\n",
    "#       state=\"MI\"\n",
    "#       plot_violin(data, means, parameter, i ,state)\n",
    "\n",
    "# if __name__ == \"__main__\":\n",
    "#     main()\n"
   ]
  },
  {
   "cell_type": "code",
   "execution_count": null,
   "metadata": {},
   "outputs": [],
   "source": []
  }
 ],
 "metadata": {
  "kernelspec": {
   "display_name": "base",
   "language": "python",
   "name": "python3"
  },
  "language_info": {
   "codemirror_mode": {
    "name": "ipython",
    "version": 3
   },
   "file_extension": ".py",
   "mimetype": "text/x-python",
   "name": "python",
   "nbconvert_exporter": "python",
   "pygments_lexer": "ipython3",
   "version": "3.12.7"
  }
 },
 "nbformat": 4,
 "nbformat_minor": 2
}
